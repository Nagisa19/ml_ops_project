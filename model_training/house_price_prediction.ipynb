{
 "cells": [
  {
   "cell_type": "markdown",
   "id": "385bae86",
   "metadata": {},
   "source": [
    "\n",
    "# Predicting House Prices with MLFlow and DVC\n",
    "\n",
    "This notebook demonstrates how to:\n",
    "1. Use the `train.csv` dataset to train a predictive model for house prices.\n",
    "2. Track experiments with MLFlow (integrated with DagsHub).\n",
    "3. Manage data versions with DVC.\n",
    "4. Predict house prices for the `test.csv` dataset.\n",
    "5. Save the results in the format of `sample_submission.csv`.\n"
   ]
  },
  {
   "cell_type": "code",
   "execution_count": null,
   "id": "1a7d1102",
   "metadata": {},
   "outputs": [],
   "source": [
    "\n",
    "# Import necessary libraries\n",
    "import pandas as pd\n",
    "import numpy as np\n",
    "from sklearn.model_selection import train_test_split\n",
    "from sklearn.ensemble import RandomForestRegressor\n",
    "from sklearn.metrics import mean_squared_error\n",
    "import mlflow\n",
    "import mlflow.sklearn\n",
    "import os\n",
    "\n",
    "# DVC-specific imports\n",
    "from dvc.api import open as dvc_open\n"
   ]
  },
  {
   "cell_type": "code",
   "execution_count": null,
   "id": "9b3492e8",
   "metadata": {},
   "outputs": [],
   "source": [
    "\n",
    "# Load train.csv using DVC\n",
    "train_path = \"data/train.csv\"\n",
    "with dvc_open(train_path, \"r\") as f:\n",
    "    train_data = pd.read_csv(f)\n",
    "\n",
    "# Load test.csv using DVC\n",
    "test_path = \"data/test.csv\"\n",
    "with dvc_open(test_path, \"r\") as f:\n",
    "    test_data = pd.read_csv(f)\n",
    "\n",
    "# Display the first few rows of the train dataset\n",
    "train_data.head()\n"
   ]
  },
  {
   "cell_type": "code",
   "execution_count": null,
   "id": "b19ba5a2",
   "metadata": {},
   "outputs": [],
   "source": [
    "\n",
    "# Data preprocessing\n",
    "\n",
    "# Handling missing values (basic strategy)\n",
    "train_data.fillna(train_data.median(), inplace=True)\n",
    "test_data.fillna(test_data.median(), inplace=True)\n",
    "\n",
    "# Select features and target\n",
    "features = [\n",
    "    \"MSSubClass\", \"LotFrontage\", \"LotArea\", \"OverallQual\", \"OverallCond\", \n",
    "    \"YearBuilt\", \"YearRemodAdd\", \"GrLivArea\", \"FullBath\", \"HalfBath\", \"BedroomAbvGr\"\n",
    "]\n",
    "X = train_data[features]\n",
    "y = train_data[\"SalePrice\"]\n",
    "\n",
    "# Train-test split\n",
    "X_train, X_val, y_train, y_val = train_test_split(X, y, test_size=0.2, random_state=42)\n"
   ]
  },
  {
   "cell_type": "code",
   "execution_count": null,
   "id": "d6c34293",
   "metadata": {},
   "outputs": [],
   "source": [
    "\n",
    "# Set up MLFlow tracking URI (DagsHub integration)\n",
    "mlflow.set_tracking_uri(\"https://dagshub.com/<your-dagshub-username>/<your-repo-name>.mlflow\")\n",
    "mlflow.set_experiment(\"House Prices Prediction\")\n",
    "\n",
    "# Start MLFlow run\n",
    "with mlflow.start_run():\n",
    "    # Initialize and train the model\n",
    "    model = RandomForestRegressor(n_estimators=100, random_state=42)\n",
    "    model.fit(X_train, y_train)\n",
    "    \n",
    "    # Evaluate the model on validation data\n",
    "    y_pred = model.predict(X_val)\n",
    "    rmse = mean_squared_error(y_val, y_pred, squared=False)\n",
    "    \n",
    "    # Log parameters, metrics, and model to MLFlow\n",
    "    mlflow.log_param(\"n_estimators\", 100)\n",
    "    mlflow.log_metric(\"rmse\", rmse)\n",
    "    mlflow.sklearn.log_model(model, \"random_forest_model\")\n",
    "    \n",
    "    print(f\"Validation RMSE: {rmse}\")\n"
   ]
  },
  {
   "cell_type": "code",
   "execution_count": null,
   "id": "5eb55793",
   "metadata": {},
   "outputs": [],
   "source": [
    "\n",
    "# Predict on the test dataset\n",
    "test_features = test_data[features]\n",
    "test_predictions = model.predict(test_features)\n",
    "\n",
    "# Create submission DataFrame\n",
    "submission = pd.DataFrame({\n",
    "    \"Id\": test_data[\"Id\"],\n",
    "    \"SalePrice\": test_predictions\n",
    "})\n",
    "\n",
    "# Save submission file\n",
    "submission_path = \"sample_submission.csv\"\n",
    "submission.to_csv(submission_path, index=False)\n",
    "print(f\"Submission file saved: {submission_path}\")\n"
   ]
  }
 ],
 "metadata": {},
 "nbformat": 4,
 "nbformat_minor": 5
}
