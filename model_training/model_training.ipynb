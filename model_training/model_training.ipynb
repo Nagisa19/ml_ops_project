{
 "cells": [
  {
   "cell_type": "code",
   "id": "initial_id",
   "metadata": {
    "collapsed": true
   },
   "source": [
    "import dagshub\n",
    "import mlflow\n",
    "from sklearn.model_selection import train_test_split\n",
    "from sklearn.ensemble import RandomForestClassifier\n",
    "from sklearn.metrics import accuracy_score\n",
    "import pickle\n",
    "import pandas as pd\n",
    "import os"
   ],
   "outputs": [],
   "execution_count": null
  },
  {
   "metadata": {},
   "cell_type": "code",
   "source": [
    "\n",
    "dagshub.init(repo_owner='Nagisa', repo_name='ml_ops_project', mlflow=True)"
   ],
   "id": "56ea987fccfab646",
   "outputs": [],
   "execution_count": null
  },
  {
   "metadata": {},
   "cell_type": "code",
   "source": [
    "# Charger les données à partir d'un fichier géré avec DVC\n",
    "data_file = \"data/iris.csv\"\n",
    "if not os.path.exists(data_file):\n",
    "    raise FileNotFoundError(f\"Le fichier {data_file} est introuvable. Assurez-vous qu'il est géré par DVC.\")\n",
    "\n",
    "data = pd.read_csv(data_file)\n",
    "X = data.iloc[:, :-1].values  # Toutes les colonnes sauf la dernière\n",
    "Y = data.iloc[:, -1].values   # La dernière colonne est la cible\n",
    "\n",
    "# Diviser les données en ensembles d'entraînement et de test\n",
    "X_train, X_test, y_train, y_test = train_test_split(X, Y, test_size=0.2, random_state=42)\n",
    "\n",
    "# Début de l'expérience MLflow\n",
    "with mlflow.start_run():\n",
    "    # Entraîner un modèle simple RandomForest\n",
    "    model = RandomForestClassifier(n_estimators=100, random_state=42)\n",
    "    model.fit(X_train, y_train)\n",
    "\n",
    "    # Prédire et évaluer les performances du modèle\n",
    "    y_pred = model.predict(X_test)\n",
    "    accuracy = accuracy_score(y_test, y_pred)\n",
    "\n",
    "    # Journaliser les paramètres, métriques et le modèle dans MLflow\n",
    "    mlflow.log_param(\"model_type\", \"RandomForestClassifier\")\n",
    "    mlflow.log_metric(\"accuracy\", accuracy)\n",
    "\n",
    "    # Sauvegarder le modèle dans un fichier pickle\n",
    "    model_filename = \"model/iris_model.pkl\"\n",
    "    with open(model_filename, \"wb\") as f:\n",
    "        pickle.dump(model, f)\n",
    "\n",
    "    print(f\"Modèle sauvegardé dans le fichier: {model_filename}\")\n",
    "\n",
    "print(\"Modèle entraîné et sauvegardé avec succès.\")"
   ],
   "id": "8e664919e8767f04",
   "outputs": [],
   "execution_count": null
  }
 ],
 "metadata": {
  "kernelspec": {
   "display_name": "Python 3",
   "language": "python",
   "name": "python3"
  },
  "language_info": {
   "codemirror_mode": {
    "name": "ipython",
    "version": 2
   },
   "file_extension": ".py",
   "mimetype": "text/x-python",
   "name": "python",
   "nbconvert_exporter": "python",
   "pygments_lexer": "ipython2",
   "version": "2.7.6"
  }
 },
 "nbformat": 4,
 "nbformat_minor": 5
}
