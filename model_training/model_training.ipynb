{
 "cells": [
  {
   "metadata": {
    "ExecuteTime": {
     "end_time": "2025-01-26T07:57:34.462857Z",
     "start_time": "2025-01-26T07:57:34.456986Z"
    }
   },
   "cell_type": "code",
   "source": [
    "import sys\n",
    "print(sys.executable)\n"
   ],
   "id": "125c91a62be7c1c",
   "outputs": [
    {
     "name": "stdout",
     "output_type": "stream",
     "text": [
      "/Users/gabrielmarec/anaconda3/envs/ml_env/bin/python\n"
     ]
    }
   ],
   "execution_count": 897
  },
  {
   "metadata": {
    "ExecuteTime": {
     "end_time": "2025-01-26T07:57:35.136613Z",
     "start_time": "2025-01-26T07:57:35.129877Z"
    }
   },
   "cell_type": "code",
   "source": [
    "import mlflow\n",
    "import pandas as pd\n",
    "import os\n",
    "from sklearn.compose import ColumnTransformer\n",
    "from sklearn.pipeline import Pipeline\n",
    "from sklearn.preprocessing import StandardScaler, OneHotEncoder, OrdinalEncoder\n",
    "from sklearn.ensemble import GradientBoostingRegressor\n",
    "from sklearn.impute import SimpleImputer\n",
    "from sklearn.model_selection import train_test_split\n",
    "\n",
    "from sklearn.metrics import mean_squared_error\n",
    "import pickle\n",
    "import numpy as np\n",
    "import dagshub"
   ],
   "id": "4e82ebe2208ae14f",
   "outputs": [],
   "execution_count": 898
  },
  {
   "metadata": {
    "ExecuteTime": {
     "end_time": "2025-01-26T07:57:36.376069Z",
     "start_time": "2025-01-26T07:57:36.145462Z"
    }
   },
   "cell_type": "code",
   "source": "dagshub.init(repo_owner='Nagisa', repo_name='ml_ops_project', mlflow=True)",
   "id": "da92c8c044968137",
   "outputs": [
    {
     "data": {
      "text/plain": [
       "Initialized MLflow to track repo \u001B[32m\"Nagisa/ml_ops_project\"\u001B[0m\n"
      ],
      "text/html": [
       "<pre style=\"white-space:pre;overflow-x:auto;line-height:normal;font-family:Menlo,'DejaVu Sans Mono',consolas,'Courier New',monospace\">Initialized MLflow to track repo <span style=\"color: #008000; text-decoration-color: #008000\">\"Nagisa/ml_ops_project\"</span>\n",
       "</pre>\n"
      ]
     },
     "metadata": {},
     "output_type": "display_data"
    },
    {
     "data": {
      "text/plain": [
       "Repository Nagisa/ml_ops_project initialized!\n"
      ],
      "text/html": [
       "<pre style=\"white-space:pre;overflow-x:auto;line-height:normal;font-family:Menlo,'DejaVu Sans Mono',consolas,'Courier New',monospace\">Repository Nagisa/ml_ops_project initialized!\n",
       "</pre>\n"
      ]
     },
     "metadata": {},
     "output_type": "display_data"
    }
   ],
   "execution_count": 899
  },
  {
   "metadata": {
    "ExecuteTime": {
     "end_time": "2025-01-26T08:05:14.552183Z",
     "start_time": "2025-01-26T08:05:14.317641Z"
    }
   },
   "cell_type": "code",
   "source": [
    "# Charger les données à partir des fichiers gérés avec DVC\n",
    "train_path = \"data/train.csv\"\n",
    "test_path = \"data/test.csv\"\n",
    "\n",
    "# Vérifier si les fichiers existent localement via DVC\n",
    "if not os.path.exists(train_path) or not os.path.exists(test_path):\n",
    "    raise FileNotFoundError(\"Les fichiers train.csv ou test.csv sont introuvables. Assurez-vous qu'ils sont gérés par DVC et récupérés avec 'dvc pull'.\")\n",
    "\n",
    "\n",
    "test_data = pd.read_csv(test_path)\n",
    "train_data = pd.read_csv(train_path)"
   ],
   "id": "dc63f48466caf18d",
   "outputs": [],
   "execution_count": 908
  },
  {
   "metadata": {
    "ExecuteTime": {
     "end_time": "2025-01-26T08:05:15.371031Z",
     "start_time": "2025-01-26T08:05:15.355124Z"
    }
   },
   "cell_type": "code",
   "source": [
    "# Identification des colonnes à traiter\n",
    "numeric_features = [\n",
    "    \"MSSubClass\", \"LotFrontage\", \"LotArea\", \"OverallQual\", \"OverallCond\",\n",
    "    \"YearBuilt\", \"YearRemodAdd\", \"GrLivArea\", \"FullBath\", \"HalfBath\", \"BedroomAbvGr\"\n",
    "]\n",
    "categorical_ordinal_features = [\"ExterQual\", \"ExterCond\", \"HeatingQC\", \"KitchenQual\"]\n",
    "categorical_nominal_features = [\"Neighborhood\", \"SaleType\", \"SaleCondition\", \"HouseStyle\"]\n",
    "\n",
    "# Définir les colonnes à traiter\n",
    "all_features = numeric_features + categorical_ordinal_features + categorical_nominal_features\n",
    "target = \"SalePrice\""
   ],
   "id": "4352cdd12f1898c8",
   "outputs": [],
   "execution_count": 909
  },
  {
   "metadata": {
    "ExecuteTime": {
     "end_time": "2025-01-26T08:05:16.210872Z",
     "start_time": "2025-01-26T08:05:16.189963Z"
    }
   },
   "cell_type": "code",
   "source": [
    "# Pipeline pour les features numériques\n",
    "numeric_transformer = Pipeline(steps=[\n",
    "    (\"imputer\", SimpleImputer(strategy=\"median\")),  # Remplir avec la médiane\n",
    "    (\"scaler\", StandardScaler())  # Normaliser les données\n",
    "])\n",
    "\n",
    "\n",
    "# Pipeline pour les features ordinales (ordre défini manuellement)\n",
    "ordinal_transformer = Pipeline(steps=[\n",
    "    (\"imputer\", SimpleImputer(strategy=\"most_frequent\")),\n",
    "    (\"encoder\", OrdinalEncoder(categories=[\n",
    "        [\"Po\", \"Fa\", \"TA\", \"Gd\", \"Ex\"],  # ExterQual\n",
    "        [\"Po\", \"Fa\", \"TA\", \"Gd\", \"Ex\"],  # ExterCond\n",
    "        [\"Po\", \"Fa\", \"TA\", \"Gd\", \"Ex\"],  # HeatingQC\n",
    "        [\"Po\", \"Fa\", \"TA\", \"Gd\", \"Ex\"],  # KitchenQual\n",
    "    ]))\n",
    "])\n",
    "\n",
    "# Pipeline pour les features nominales (encodage OneHot)\n",
    "nominal_transformer = Pipeline(steps=[\n",
    "    (\"imputer\", SimpleImputer(strategy=\"most_frequent\")),\n",
    "    (\"encoder\", OneHotEncoder(handle_unknown=\"ignore\"))\n",
    "])"
   ],
   "id": "85a8e30d82512ca6",
   "outputs": [],
   "execution_count": 910
  },
  {
   "metadata": {
    "ExecuteTime": {
     "end_time": "2025-01-26T08:05:17.479847Z",
     "start_time": "2025-01-26T08:05:17.167724Z"
    }
   },
   "cell_type": "code",
   "source": [
    "# Combiner les transformations dans une seule étape\n",
    "preprocessor = ColumnTransformer(\n",
    "    transformers=[\n",
    "        (\"num\", numeric_transformer, numeric_features),\n",
    "        (\"ord\", ordinal_transformer, categorical_ordinal_features),\n",
    "        (\"nom\", nominal_transformer, categorical_nominal_features)\n",
    "    ]\n",
    ")\n",
    "\n",
    "# Pipeline final avec modèle\n",
    "model = GradientBoostingRegressor(\n",
    "    n_estimators=12000,  # Augmente légèrement\n",
    "    learning_rate=0.03,  # Réduction du taux\n",
    "    max_depth=12,  # Permet de capturer les relations complexes\n",
    "    subsample=0.8,\n",
    "    max_features=\"sqrt\",\n",
    "    random_state=42\n",
    ")\n",
    "\n",
    "\n",
    "pipeline = Pipeline(steps=[\n",
    "    (\"preprocessor\", preprocessor),\n",
    "    (\"regressor\", model)\n",
    "])"
   ],
   "id": "c3fe6feafaa46852",
   "outputs": [],
   "execution_count": 911
  },
  {
   "metadata": {
    "ExecuteTime": {
     "end_time": "2025-01-26T08:05:18.134031Z",
     "start_time": "2025-01-26T08:05:18.088077Z"
    }
   },
   "cell_type": "code",
   "source": [
    "from sklearn.base import BaseEstimator, TransformerMixin\n",
    "\n",
    "feature_weights = {\n",
    "    # Features importantes (> 0.1)\n",
    "    \"num__OverallQual\": 1.0,\n",
    "    \"num__GrLivArea\": 1.0,\n",
    "    \"num__YearBuilt\": 1.0,\n",
    "\n",
    "    # Features moyennement importantes (0.05 - 0.1)\n",
    "    \"num__LotArea\": 0.83,\n",
    "    \"num__YearRemodAdd\": 0.72,\n",
    "    \"ord__ExterQual\": 0.0,\n",
    "    \"num__LotFrontage\": 0.65,\n",
    "    \"num__FullBath\": 0.6,\n",
    "\n",
    "    # Features utiles (0.01 - 0.05)\n",
    "    \"ord__KitchenQual\": 0.0,\n",
    "    \"nom__Neighborhood_NridgHt\": 0.0,\n",
    "    \"num__MSSubClass\": 0.0,\n",
    "    \"num__BedroomAbvGr\": 0.0,\n",
    "    \"ord__HeatingQC\": 0.0,\n",
    "    \"num__OverallCond\": 0.0,\n",
    "    \"num__HalfBath\": 0.0,\n",
    "\n",
    "    # Features faibles (0.001 - 0.01)\n",
    "    \"nom__Neighborhood_NoRidge\": 0.0,\n",
    "    \"nom__Neighborhood_StoneBr\": 0.0,\n",
    "    \"nom__Neighborhood_Edwards\": 0.0,\n",
    "    \"nom__HouseStyle_2Story\": 0.0,\n",
    "    \"nom__SaleCondition_Normal\": 0.0,\n",
    "    \"nom__SaleType_New\": 0.0,\n",
    "    \"nom__SaleType_WD\": 0.0,\n",
    "    \"ord__ExterCond\": 0.0,\n",
    "    \"nom__SaleCondition_Partial\": 0.0,\n",
    "    \"nom__Neighborhood_Crawfor\": 0.0,\n",
    "    \"nom__SaleCondition_Abnorml\": 0.0,\n",
    "    \"nom__HouseStyle_1Story\": 0.0,\n",
    "    \"nom__Neighborhood_CollgCr\": 0.0,\n",
    "    \"nom__Neighborhood_Somerst\": 0.0,\n",
    "    \"nom__HouseStyle_1.5Fin\": 0.0,\n",
    "    \"nom__Neighborhood_OldTown\": 0.0,\n",
    "    \"nom__Neighborhood_Gilbert\": 0.0,\n",
    "    \"nom__Neighborhood_Timber\": 0.0,\n",
    "    \"nom__Neighborhood_ClearCr\": 0.0,\n",
    "    \"nom__Neighborhood_Veenker\": 0.0,\n",
    "    \"nom__Neighborhood_NAmes\": 0.0,\n",
    "    \"nom__Neighborhood_Sawyer\": 0.0,\n",
    "    \"nom__SaleCondition_Alloca\": 0.0,\n",
    "    \"nom__Neighborhood_NWAmes\": 0.0,\n",
    "    \"nom__Neighborhood_BrkSide\": 0.0,\n",
    "    \"nom__HouseStyle_SLvl\": 0.0,\n",
    "    \"nom__Neighborhood_Mitchel\": 0.0,\n",
    "    \"nom__SaleType_CWD\": 0.0,\n",
    "    \"nom__Neighborhood_IDOTRR\": 0.0,\n",
    "    \"nom__Neighborhood_SawyerW\": 0.0,\n",
    "    \"nom__Neighborhood_SWISU\": 0.0,\n",
    "    \"nom__SaleCondition_Family\": 0.0,\n",
    "    \"nom__Neighborhood_BrDale\": 0.0,\n",
    "    \"nom__SaleType_COD\": 0.0,\n",
    "    \"nom__HouseStyle_1.5Unf\": 0.0,\n",
    "\n",
    "    # Features négligeables (< 0.001)\n",
    "    \"nom__Neighborhood_Blmngtn\": 0.0,\n",
    "    \"nom__HouseStyle_2.5Unf\": 0.0,\n",
    "    \"nom__SaleType_ConLD\": 0.0,\n",
    "    \"nom__SaleType_ConLI\": 0.0,\n",
    "    \"nom__Neighborhood_SWISU\": 0.0,\n",
    "    \"nom__SaleType_Con\": 0.0,\n",
    "    \"nom__Neighborhood_NPkVill\": 0.0,\n",
    "    \"nom__SaleType_Oth\": 0.0,\n",
    "    \"nom__Neighborhood_Blueste\": 0.0,\n",
    "}\n",
    "\n",
    "\n",
    "class FeatureWeightTransformer(BaseEstimator, TransformerMixin):\n",
    "    def __init__(self, feature_weights):\n",
    "        self.feature_weights = feature_weights\n",
    "\n",
    "    def fit(self, X, y=None):\n",
    "        # Stocker les colonnes après transformation\n",
    "        if isinstance(X, np.ndarray):\n",
    "            self.columns_ = [f\"feature_{i}\" for i in range(X.shape[1])]  # Générer des noms génériques\n",
    "        else:\n",
    "            self.columns_ = X.columns\n",
    "        return self\n",
    "\n",
    "    def transform(self, X):\n",
    "        # Si X est un tableau numpy, convertir en DataFrame\n",
    "        if isinstance(X, np.ndarray):\n",
    "            X = pd.DataFrame(X, columns=self.columns_)\n",
    "\n",
    "        # Appliquer les poids aux colonnes correspondantes\n",
    "        for col, weight in self.feature_weights.items():\n",
    "            if col in X.columns:\n",
    "                X[col] *= weight\n",
    "        return X\n",
    "\n",
    "weight_transformer = FeatureWeightTransformer(feature_weights)\n",
    "\n",
    "pipeline = Pipeline(steps=[\n",
    "    (\"preprocessor\", preprocessor),\n",
    "    (\"feature_weights\", weight_transformer),  # Appliquer les poids ajustés\n",
    "    (\"regressor\", model)\n",
    "])\n"
   ],
   "id": "c6f0bf52a9382d99",
   "outputs": [],
   "execution_count": 912
  },
  {
   "metadata": {
    "ExecuteTime": {
     "end_time": "2025-01-26T08:05:19.536864Z",
     "start_time": "2025-01-26T08:05:19.197146Z"
    }
   },
   "cell_type": "code",
   "source": [
    "# Charger les données\n",
    "train_data = pd.read_csv(\"data/train.csv\")\n",
    "test_data = pd.read_csv(\"data/test.csv\")\n",
    "\n",
    "# Supprimer les outliers basés sur des valeurs aberrantes de \"LotArea\" et \"GrLivArea\"\n",
    "outlier_condition = (train_data[\"LotArea\"] > 50000) | (train_data[\"GrLivArea\"] > 4000)\n",
    "print(f\"Nombre d'outliers détectés : {outlier_condition.sum()}\")\n",
    "train_data = train_data[~outlier_condition].reset_index(drop=True)\n",
    "\n",
    "# Détection des outliers pour les features importantes\n",
    "def detect_outliers_iqr(df, column):\n",
    "    Q1 = df[column].quantile(0.25)  # Premier quartile\n",
    "    Q3 = df[column].quantile(0.75)  # Troisième quartile\n",
    "    IQR = Q3 - Q1  # Écart interquartile\n",
    "    lower_bound = Q1 - 1.5 * IQR\n",
    "    upper_bound = Q3 + 1.5 * IQR\n",
    "    return (df[column] < lower_bound) | (df[column] > upper_bound)\n",
    "\n",
    "# Liste des features importantes\n",
    "important_features = [\n",
    "    \"OverallQual\", \"GrLivArea\", \"YearBuilt\", \"LotArea\",\n",
    "    \"YearRemodAdd\", \"LotFrontage\", \"FullBath\"\n",
    "]\n",
    "\n",
    "# Détection et suppression des outliers\n",
    "outlier_indices = pd.Series(False, index=train_data.index)\n",
    "for feature in important_features:\n",
    "    outliers = detect_outliers_iqr(train_data, feature)\n",
    "    print(f\"{feature}: {outliers.sum()} outliers détectés.\")\n",
    "    outlier_indices = outlier_indices | outliers\n",
    "\n",
    "# Supprimer les lignes avec des outliers\n",
    "print(f\"Nombre total de lignes avec des outliers : {outlier_indices.sum()}\")\n",
    "train_data = train_data[~outlier_indices].reset_index(drop=True)\n",
    "\n",
    "outlier_condition = train_data[\"OverallQual\"] > 7\n",
    "train_data = train_data[~outlier_condition].reset_index(drop=True)\n",
    "\n",
    "features_for_outlier_detection = [\"OverallQual\", \"GrLivArea\", \"LotArea\", \"YearBuilt\", \"YearRemodAdd\", \"LotFrontage\", \"FullBath\"]\n",
    "\n",
    "train_data = train_data[train_data[\"SaleCondition\"] != \"Abnorml\"].reset_index(drop=True)\n",
    "outlier_condition = (\n",
    "    (train_data[\"MSZoning\"] == \"RH\") |  # Rares valeurs \"RH\" pour MsZoning\n",
    "    (train_data[\"YearBuilt\"] > 2010) |  # Années spécifiques pour YearBuilt\n",
    "    (train_data[\"YearBuilt\"] < 1900) |\n",
    "    (train_data[\"BsmtFinSF1\"] > 2000) |  # Sous-sols trop grands\n",
    "    (train_data[\"GrLivArea\"] > 4000) |  # Surface habitable trop grande\n",
    "    (train_data[\"LotArea\"] > 50000) |# Surface de terrain excessive\n",
    "    (train_data[\"TotalBsmtSF\"] > 3000) |  # Surface totale sous-sol excessive\n",
    "    (train_data[\"OverallQual\"].isin([1, 10])) |  # Qualité extrême\n",
    "    (train_data[\"OverallCond\"].isin([1, 10]))  # Condition extrême\n",
    ")\n",
    "train_data = train_data[~outlier_condition].reset_index(drop=True)\n",
    "\n",
    "X = train_data[all_features]\n",
    "y = train_data[target]\n",
    "\n",
    "# Séparer les données en ensemble d'entraînement et de validation\n",
    "X_train, X_val, y_train, y_val = train_test_split(X, y, test_size=0.2, random_state=42)"
   ],
   "id": "25c6d528d953cf07",
   "outputs": [
    {
     "name": "stdout",
     "output_type": "stream",
     "text": [
      "Nombre d'outliers détectés : 14\n",
      "OverallQual: 2 outliers détectés.\n",
      "GrLivArea: 26 outliers détectés.\n",
      "YearBuilt: 7 outliers détectés.\n",
      "LotArea: 65 outliers détectés.\n",
      "YearRemodAdd: 0 outliers détectés.\n",
      "LotFrontage: 84 outliers détectés.\n",
      "FullBath: 0 outliers détectés.\n",
      "Nombre total de lignes avec des outliers : 156\n"
     ]
    }
   ],
   "execution_count": 913
  },
  {
   "metadata": {},
   "cell_type": "markdown",
   "source": "",
   "id": "ee21bb8fbd4f62a5"
  },
  {
   "metadata": {
    "ExecuteTime": {
     "end_time": "2025-01-26T08:06:49.257992Z",
     "start_time": "2025-01-26T08:05:22.560892Z"
    }
   },
   "cell_type": "code",
   "source": [
    "# Expérience MLflow\n",
    "with mlflow.start_run():\n",
    "    # Entraîner le pipeline\n",
    "    pipeline.fit(X_train, y_train)\n",
    "\n",
    "    # Prédictions\n",
    "    y_pred = pipeline.predict(X_val)\n",
    "\n",
    "    # Calcul de la métrique\n",
    "    mse = mean_squared_error(y_val, y_pred)\n",
    "    rmse = np.sqrt(mse)\n",
    "\n",
    "    print(f\"RMSE sur l'ensemble de validation : {rmse}\")\n",
    "\n",
    "    # Enregistrement des paramètres et des métriques dans MLflow\n",
    "    mlflow.log_param(\"model_type\", \"GradientBoostingRegressor\")\n",
    "    mlflow.log_param(\"n_estimators\", model.n_estimators)\n",
    "    mlflow.log_param(\"learning_rate\", model.learning_rate)\n",
    "    mlflow.log_param(\"max_depth\", model.max_depth)\n",
    "    mlflow.log_metric(\"rmse\", rmse)\n",
    "\n",
    "    # Sauvegarder le pipeline complet\n",
    "    model_filename = \"gradient_boosting.pkl\"\n",
    "    with open(model_filename, \"wb\") as f:\n",
    "        pickle.dump(pipeline, f)\n",
    "    print(f\"Pipeline sauvegardé dans le fichier : {model_filename}\")\n",
    "\n",
    "test_predictions = pipeline.predict(test_data)\n",
    "\n",
    "# Préparer un fichier de soumission\n",
    "submission = pd.DataFrame({\n",
    "    \"Id\": test_data[\"Id\"],\n",
    "    \"SalePrice\": test_predictions\n",
    "})\n",
    "submission_path = \"data/sample_submission.csv\"\n",
    "submission.to_csv(submission_path, index=False)\n",
    "print(f\"Fichier de soumission sauvegardé : {submission_path}\")\n",
    "\n"
   ],
   "id": "da9f24e38ef38630",
   "outputs": [
    {
     "name": "stdout",
     "output_type": "stream",
     "text": [
      "RMSE sur l'ensemble de validation : 18284.32540993485\n",
      "Pipeline sauvegardé dans le fichier : gradient_boosting.pkl\n",
      "🏃 View run smiling-toad-691 at: https://dagshub.com/Nagisa/ml_ops_project.mlflow/#/experiments/0/runs/855030c9f2a14b7eaa2d8bca452f876f\n",
      "🧪 View experiment at: https://dagshub.com/Nagisa/ml_ops_project.mlflow/#/experiments/0\n",
      "Fichier de soumission sauvegardé : data/sample_submission.csv\n"
     ]
    }
   ],
   "execution_count": 914
  },
  {
   "metadata": {
    "ExecuteTime": {
     "end_time": "2025-01-26T08:07:16.812289Z",
     "start_time": "2025-01-26T08:07:16.783291Z"
    }
   },
   "cell_type": "code",
   "source": [
    "import matplotlib.pyplot as plt\n",
    "\n",
    "predictions = pd.read_csv(\"data/sample_submission.csv\")\n",
    "ground_truth = pd.read_csv(\"data/results.csv\")\n",
    "\n"
   ],
   "id": "a875f2834e026e4b",
   "outputs": [],
   "execution_count": 916
  },
  {
   "metadata": {
    "ExecuteTime": {
     "end_time": "2025-01-26T08:07:18.027910Z",
     "start_time": "2025-01-26T08:07:18.002068Z"
    }
   },
   "cell_type": "code",
   "source": [
    "comparison = predictions.merge(ground_truth, on=\"Id\", suffixes=(\"_pred\", \"_true\"))\n",
    "print(comparison.head())\n"
   ],
   "id": "195bf5420b9a5ed0",
   "outputs": [
    {
     "name": "stdout",
     "output_type": "stream",
     "text": [
      "     Id  SalePrice_pred  SalePrice_true\n",
      "0  1461   131037.418037   169277.052498\n",
      "1  1462   165455.415631   187758.393989\n",
      "2  1463   183407.027456   183583.683570\n",
      "3  1464   187821.450523   179317.477511\n",
      "4  1465   183484.566547   150730.079977\n"
     ]
    }
   ],
   "execution_count": 917
  },
  {
   "metadata": {
    "ExecuteTime": {
     "end_time": "2025-01-26T08:07:18.999241Z",
     "start_time": "2025-01-26T08:07:18.966993Z"
    }
   },
   "cell_type": "code",
   "source": [
    "from sklearn.metrics import mean_squared_error, mean_absolute_error, r2_score\n",
    "\n",
    "# Calculer les métriques\n",
    "mse = mean_squared_error(comparison[\"SalePrice_true\"], comparison[\"SalePrice_pred\"])\n",
    "rmse = mse ** 0.5\n",
    "mae = mean_absolute_error(comparison[\"SalePrice_true\"], comparison[\"SalePrice_pred\"])\n",
    "r2 = r2_score(comparison[\"SalePrice_true\"], comparison[\"SalePrice_pred\"])\n",
    "\n",
    "print(f\"Mean Squared Error (MSE): {mse}\")\n",
    "print(f\"Root Mean Squared Error (RMSE): {rmse}\")\n",
    "print(f\"Mean Absolute Error (MAE): {mae}\")\n",
    "print(f\"R² Score: {r2}\")\n"
   ],
   "id": "bdd45528d57f75a5",
   "outputs": [
    {
     "name": "stdout",
     "output_type": "stream",
     "text": [
      "Mean Squared Error (MSE): 2219700412.807872\n",
      "Root Mean Squared Error (RMSE): 47113.69665827414\n",
      "Mean Absolute Error (MAE): 40349.32369419297\n",
      "R² Score: -7.140691023024216\n"
     ]
    }
   ],
   "execution_count": 918
  },
  {
   "metadata": {
    "ExecuteTime": {
     "end_time": "2025-01-26T08:07:20.460056Z",
     "start_time": "2025-01-26T08:07:20.004241Z"
    }
   },
   "cell_type": "code",
   "source": [
    "sample_comparison = comparison.head(50)  # Prenez un échantillon si nécessaire\n",
    "\n",
    "plt.figure(figsize=(15, 6))\n",
    "plt.plot(sample_comparison[\"Id\"], sample_comparison[\"SalePrice_true\"], label=\"Valeurs réelles\", marker=\"o\")\n",
    "plt.plot(sample_comparison[\"Id\"], sample_comparison[\"SalePrice_pred\"], label=\"Prédictions\", marker=\"x\")\n",
    "plt.title(\"Comparaison des valeurs réelles et prédites\")\n",
    "plt.xlabel(\"Id\")\n",
    "plt.ylabel(\"Prix de vente\")\n",
    "plt.legend()\n",
    "plt.show()\n"
   ],
   "id": "c909d64036cb4c51",
   "outputs": [
    {
     "data": {
      "text/plain": [
       "<Figure size 1500x600 with 1 Axes>"
      ],
      "image/png": "[encoded data removed]"
     },
     "metadata": {},
     "output_type": "display_data"
    }
   ],
   "execution_count": 919
  },
  {
   "metadata": {
    "ExecuteTime": {
     "end_time": "2025-01-26T08:07:21.767810Z",
     "start_time": "2025-01-26T08:07:21.750774Z"
    }
   },
   "cell_type": "code",
   "source": [
    "# Définir une tolérance en pourcentage (exemple : 10% d'erreur tolérée)\n",
    "tolerance = 0.1\n",
    "\n",
    "# Calculer le pourcentage d'erreur relatif\n",
    "relative_errors = np.abs(y_val - y_pred) / y_val\n",
    "\n",
    "# Calculer le pourcentage de succès\n",
    "success_rate = np.sum(relative_errors <= tolerance) / len(y_val) * 100\n",
    "\n",
    "print(f\"Pourcentage de prédictions réussies (erreur <= {tolerance * 100}%): {success_rate:.2f}%\")\n"
   ],
   "id": "567a190cdef2777f",
   "outputs": [
    {
     "name": "stdout",
     "output_type": "stream",
     "text": [
      "Pourcentage de prédictions réussies (erreur <= 10.0%): 74.13%\n"
     ]
    }
   ],
   "execution_count": 920
  },
  {
   "metadata": {},
   "cell_type": "code",
   "outputs": [],
   "execution_count": null,
   "source": "",
   "id": "d3109e0031015b5d"
  }
 ],
 "metadata": {
  "kernelspec": {
   "display_name": "Python (ml_env)",
   "language": "python",
   "name": "ml_env"
  },
  "language_info": {
   "codemirror_mode": {
    "name": "ipython",
    "version": 3
   },
   "file_extension": ".py",
   "mimetype": "text/x-python",
   "name": "python",
   "nbconvert_exporter": "python",
   "pygments_lexer": "ipython3",
   "version": "3.10.16"
  }
 },
 "nbformat": 4,
 "nbformat_minor": 5
}
