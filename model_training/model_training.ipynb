{
 "cells": [
  {
   "metadata": {
    "ExecuteTime": {
     "end_time": "2025-01-25T18:55:27.424596Z",
     "start_time": "2025-01-25T18:55:27.418725Z"
    }
   },
   "cell_type": "code",
   "source": [
    "import sys\n",
    "print(sys.executable)\n"
   ],
   "id": "125c91a62be7c1c",
   "outputs": [
    {
     "name": "stdout",
     "output_type": "stream",
     "text": [
      "/Users/gabrielmarec/anaconda3/envs/ml_env/bin/python\n"
     ]
    }
   ],
   "execution_count": 36
  },
  {
   "metadata": {
    "ExecuteTime": {
     "end_time": "2025-01-25T18:55:29.947336Z",
     "start_time": "2025-01-25T18:55:29.942558Z"
    }
   },
   "cell_type": "code",
   "source": [
    "import mlflow\n",
    "import pandas as pd\n",
    "import os\n",
    "from dvc.api import open as dvc_open\n",
    "from sklearn.model_selection import train_test_split\n",
    "from sklearn.ensemble import RandomForestRegressor\n",
    "from sklearn.metrics import mean_squared_error\n",
    "import pickle\n",
    "import dagshub"
   ],
   "id": "4e82ebe2208ae14f",
   "outputs": [],
   "execution_count": 37
  },
  {
   "metadata": {
    "ExecuteTime": {
     "end_time": "2025-01-25T18:55:32.716654Z",
     "start_time": "2025-01-25T18:55:32.443443Z"
    }
   },
   "cell_type": "code",
   "source": "dagshub.init(repo_owner='Nagisa', repo_name='ml_ops_project', mlflow=True)",
   "id": "da92c8c044968137",
   "outputs": [
    {
     "data": {
      "text/plain": [
       "Initialized MLflow to track repo \u001B[32m\"Nagisa/ml_ops_project\"\u001B[0m\n"
      ],
      "text/html": [
       "<pre style=\"white-space:pre;overflow-x:auto;line-height:normal;font-family:Menlo,'DejaVu Sans Mono',consolas,'Courier New',monospace\">Initialized MLflow to track repo <span style=\"color: #008000; text-decoration-color: #008000\">\"Nagisa/ml_ops_project\"</span>\n",
       "</pre>\n"
      ]
     },
     "metadata": {},
     "output_type": "display_data"
    },
    {
     "data": {
      "text/plain": [
       "Repository Nagisa/ml_ops_project initialized!\n"
      ],
      "text/html": [
       "<pre style=\"white-space:pre;overflow-x:auto;line-height:normal;font-family:Menlo,'DejaVu Sans Mono',consolas,'Courier New',monospace\">Repository Nagisa/ml_ops_project initialized!\n",
       "</pre>\n"
      ]
     },
     "metadata": {},
     "output_type": "display_data"
    }
   ],
   "execution_count": 38
  },
  {
   "metadata": {
    "ExecuteTime": {
     "end_time": "2025-01-25T18:55:35.457357Z",
     "start_time": "2025-01-25T18:55:35.209488Z"
    }
   },
   "cell_type": "code",
   "source": [
    "# Charger les données à partir des fichiers gérés avec DVC\n",
    "train_path = \"data/train.csv\"\n",
    "test_path = \"data/test.csv\"\n",
    "\n",
    "# Vérifier si les fichiers existent localement via DVC\n",
    "if not os.path.exists(train_path) or not os.path.exists(test_path):\n",
    "    raise FileNotFoundError(\"Les fichiers train.csv ou test.csv sont introuvables. Assurez-vous qu'ils sont gérés par DVC et récupérés avec 'dvc pull'.\")\n",
    "\n",
    "# Charger les données avec DVC\n",
    "with dvc_open(train_path, \"r\") as f:\n",
    "    train_data = pd.read_csv(f)\n",
    "\n",
    "with dvc_open(test_path, \"r\") as f:\n",
    "    test_data = pd.read_csv(f)"
   ],
   "id": "4352cdd12f1898c8",
   "outputs": [
    {
     "ename": "CloneError",
     "evalue": "SCM error",
     "output_type": "error",
     "traceback": [
      "\u001B[0;31m---------------------------------------------------------------------------\u001B[0m",
      "\u001B[0;31mNotGitRepository\u001B[0m                          Traceback (most recent call last)",
      "File \u001B[0;32m~/anaconda3/envs/ml_env/lib/python3.10/site-packages/scmrepo/git/backend/dulwich/__init__.py:261\u001B[0m, in \u001B[0;36mDulwichBackend.clone\u001B[0;34m(cls, url, to_path, shallow_branch, progress, bare, mirror)\u001B[0m\n\u001B[1;32m    260\u001B[0m \u001B[38;5;28;01melse\u001B[39;00m:\n\u001B[0;32m--> 261\u001B[0m     repo \u001B[38;5;241m=\u001B[39m \u001B[43mclone_from\u001B[49m\u001B[43m(\u001B[49m\u001B[43m)\u001B[49m\n\u001B[1;32m    263\u001B[0m \u001B[38;5;28;01mwith\u001B[39;00m closing(repo):\n",
      "File \u001B[0;32m~/anaconda3/envs/ml_env/lib/python3.10/site-packages/dulwich/porcelain.py:559\u001B[0m, in \u001B[0;36mclone\u001B[0;34m(source, target, bare, checkout, errstream, outstream, origin, depth, branch, config, filter_spec, protocol_version, **kwargs)\u001B[0m\n\u001B[1;32m    557\u001B[0m     filter_spec \u001B[38;5;241m=\u001B[39m filter_spec\u001B[38;5;241m.\u001B[39mencode(\u001B[38;5;124m\"\u001B[39m\u001B[38;5;124mascii\u001B[39m\u001B[38;5;124m\"\u001B[39m)\n\u001B[0;32m--> 559\u001B[0m \u001B[38;5;28;01mreturn\u001B[39;00m \u001B[43mclient\u001B[49m\u001B[38;5;241;43m.\u001B[39;49m\u001B[43mclone\u001B[49m\u001B[43m(\u001B[49m\n\u001B[1;32m    560\u001B[0m \u001B[43m    \u001B[49m\u001B[43mpath\u001B[49m\u001B[43m,\u001B[49m\n\u001B[1;32m    561\u001B[0m \u001B[43m    \u001B[49m\u001B[43mtarget\u001B[49m\u001B[43m,\u001B[49m\n\u001B[1;32m    562\u001B[0m \u001B[43m    \u001B[49m\u001B[43mmkdir\u001B[49m\u001B[38;5;241;43m=\u001B[39;49m\u001B[43mmkdir\u001B[49m\u001B[43m,\u001B[49m\n\u001B[1;32m    563\u001B[0m \u001B[43m    \u001B[49m\u001B[43mbare\u001B[49m\u001B[38;5;241;43m=\u001B[39;49m\u001B[43mbare\u001B[49m\u001B[43m,\u001B[49m\n\u001B[1;32m    564\u001B[0m \u001B[43m    \u001B[49m\u001B[43morigin\u001B[49m\u001B[38;5;241;43m=\u001B[39;49m\u001B[43morigin\u001B[49m\u001B[43m,\u001B[49m\n\u001B[1;32m    565\u001B[0m \u001B[43m    \u001B[49m\u001B[43mcheckout\u001B[49m\u001B[38;5;241;43m=\u001B[39;49m\u001B[43mcheckout\u001B[49m\u001B[43m,\u001B[49m\n\u001B[1;32m    566\u001B[0m \u001B[43m    \u001B[49m\u001B[43mbranch\u001B[49m\u001B[38;5;241;43m=\u001B[39;49m\u001B[43mbranch\u001B[49m\u001B[43m,\u001B[49m\n\u001B[1;32m    567\u001B[0m \u001B[43m    \u001B[49m\u001B[43mprogress\u001B[49m\u001B[38;5;241;43m=\u001B[39;49m\u001B[43merrstream\u001B[49m\u001B[38;5;241;43m.\u001B[39;49m\u001B[43mwrite\u001B[49m\u001B[43m,\u001B[49m\n\u001B[1;32m    568\u001B[0m \u001B[43m    \u001B[49m\u001B[43mdepth\u001B[49m\u001B[38;5;241;43m=\u001B[39;49m\u001B[43mdepth\u001B[49m\u001B[43m,\u001B[49m\n\u001B[1;32m    569\u001B[0m \u001B[43m    \u001B[49m\u001B[43mfilter_spec\u001B[49m\u001B[38;5;241;43m=\u001B[39;49m\u001B[43mfilter_spec\u001B[49m\u001B[43m,\u001B[49m\n\u001B[1;32m    570\u001B[0m \u001B[43m    \u001B[49m\u001B[43mprotocol_version\u001B[49m\u001B[38;5;241;43m=\u001B[39;49m\u001B[43mprotocol_version\u001B[49m\u001B[43m,\u001B[49m\n\u001B[1;32m    571\u001B[0m \u001B[43m\u001B[49m\u001B[43m)\u001B[49m\n",
      "File \u001B[0;32m~/anaconda3/envs/ml_env/lib/python3.10/site-packages/dulwich/client.py:874\u001B[0m, in \u001B[0;36mGitClient.clone\u001B[0;34m(self, path, target_path, mkdir, bare, origin, checkout, branch, progress, depth, ref_prefix, filter_spec, protocol_version)\u001B[0m\n\u001B[1;32m    873\u001B[0m ref_message \u001B[38;5;241m=\u001B[39m \u001B[38;5;124mb\u001B[39m\u001B[38;5;124m\"\u001B[39m\u001B[38;5;124mclone: from \u001B[39m\u001B[38;5;124m\"\u001B[39m \u001B[38;5;241m+\u001B[39m encoded_path\n\u001B[0;32m--> 874\u001B[0m result \u001B[38;5;241m=\u001B[39m \u001B[38;5;28;43mself\u001B[39;49m\u001B[38;5;241;43m.\u001B[39;49m\u001B[43mfetch\u001B[49m\u001B[43m(\u001B[49m\n\u001B[1;32m    875\u001B[0m \u001B[43m    \u001B[49m\u001B[43mpath\u001B[49m\u001B[43m,\u001B[49m\n\u001B[1;32m    876\u001B[0m \u001B[43m    \u001B[49m\u001B[43mtarget\u001B[49m\u001B[43m,\u001B[49m\n\u001B[1;32m    877\u001B[0m \u001B[43m    \u001B[49m\u001B[43mprogress\u001B[49m\u001B[38;5;241;43m=\u001B[39;49m\u001B[43mprogress\u001B[49m\u001B[43m,\u001B[49m\n\u001B[1;32m    878\u001B[0m \u001B[43m    \u001B[49m\u001B[43mdepth\u001B[49m\u001B[38;5;241;43m=\u001B[39;49m\u001B[43mdepth\u001B[49m\u001B[43m,\u001B[49m\n\u001B[1;32m    879\u001B[0m \u001B[43m    \u001B[49m\u001B[43mref_prefix\u001B[49m\u001B[38;5;241;43m=\u001B[39;49m\u001B[43mref_prefix\u001B[49m\u001B[43m,\u001B[49m\n\u001B[1;32m    880\u001B[0m \u001B[43m    \u001B[49m\u001B[43mfilter_spec\u001B[49m\u001B[38;5;241;43m=\u001B[39;49m\u001B[43mfilter_spec\u001B[49m\u001B[43m,\u001B[49m\n\u001B[1;32m    881\u001B[0m \u001B[43m    \u001B[49m\u001B[43mprotocol_version\u001B[49m\u001B[38;5;241;43m=\u001B[39;49m\u001B[43mprotocol_version\u001B[49m\u001B[43m,\u001B[49m\n\u001B[1;32m    882\u001B[0m \u001B[43m\u001B[49m\u001B[43m)\u001B[49m\n\u001B[1;32m    883\u001B[0m \u001B[38;5;28;01mif\u001B[39;00m origin \u001B[38;5;129;01mis\u001B[39;00m \u001B[38;5;129;01mnot\u001B[39;00m \u001B[38;5;28;01mNone\u001B[39;00m:\n",
      "File \u001B[0;32m~/anaconda3/envs/ml_env/lib/python3.10/site-packages/dulwich/client.py:1857\u001B[0m, in \u001B[0;36mLocalGitClient.fetch\u001B[0;34m(self, path, target, determine_wants, progress, depth, ref_prefix, filter_spec, protocol_version, **kwargs)\u001B[0m\n\u001B[1;32m   1836\u001B[0m \u001B[38;5;250m\u001B[39m\u001B[38;5;124;03m\"\"\"Fetch into a target repository.\u001B[39;00m\n\u001B[1;32m   1837\u001B[0m \n\u001B[1;32m   1838\u001B[0m \u001B[38;5;124;03mArgs:\u001B[39;00m\n\u001B[0;32m   (...)\u001B[0m\n\u001B[1;32m   1855\u001B[0m \n\u001B[1;32m   1856\u001B[0m \u001B[38;5;124;03m\"\"\"\u001B[39;00m\n\u001B[0;32m-> 1857\u001B[0m \u001B[38;5;28;01mwith\u001B[39;00m \u001B[38;5;28;43mself\u001B[39;49m\u001B[38;5;241;43m.\u001B[39;49m\u001B[43m_open_repo\u001B[49m\u001B[43m(\u001B[49m\u001B[43mpath\u001B[49m\u001B[43m)\u001B[49m \u001B[38;5;28;01mas\u001B[39;00m r:\n\u001B[1;32m   1858\u001B[0m     refs \u001B[38;5;241m=\u001B[39m r\u001B[38;5;241m.\u001B[39mfetch(\n\u001B[1;32m   1859\u001B[0m         target,\n\u001B[1;32m   1860\u001B[0m         determine_wants\u001B[38;5;241m=\u001B[39mdetermine_wants,\n\u001B[1;32m   1861\u001B[0m         progress\u001B[38;5;241m=\u001B[39mprogress,\n\u001B[1;32m   1862\u001B[0m         depth\u001B[38;5;241m=\u001B[39mdepth,\n\u001B[1;32m   1863\u001B[0m     )\n",
      "File \u001B[0;32m~/anaconda3/envs/ml_env/lib/python3.10/site-packages/dulwich/client.py:1760\u001B[0m, in \u001B[0;36mLocalGitClient._open_repo\u001B[0;34m(cls, path)\u001B[0m\n\u001B[1;32m   1759\u001B[0m     path \u001B[38;5;241m=\u001B[39m os\u001B[38;5;241m.\u001B[39mfsdecode(path)\n\u001B[0;32m-> 1760\u001B[0m \u001B[38;5;28;01mreturn\u001B[39;00m closing(\u001B[43mRepo\u001B[49m\u001B[43m(\u001B[49m\u001B[43mpath\u001B[49m\u001B[43m)\u001B[49m)\n",
      "File \u001B[0;32m~/anaconda3/envs/ml_env/lib/python3.10/site-packages/dulwich/repo.py:1149\u001B[0m, in \u001B[0;36mRepo.__init__\u001B[0;34m(self, root, object_store, bare)\u001B[0m\n\u001B[1;32m   1148\u001B[0m     \u001B[38;5;28;01melse\u001B[39;00m:\n\u001B[0;32m-> 1149\u001B[0m         \u001B[38;5;28;01mraise\u001B[39;00m NotGitRepository(\n\u001B[1;32m   1150\u001B[0m             \u001B[38;5;124m\"\u001B[39m\u001B[38;5;124mNo git repository was found at \u001B[39m\u001B[38;5;132;01m{path}\u001B[39;00m\u001B[38;5;124m\"\u001B[39m\u001B[38;5;241m.\u001B[39mformat(\u001B[38;5;241m*\u001B[39m\u001B[38;5;241m*\u001B[39m\u001B[38;5;28mdict\u001B[39m(path\u001B[38;5;241m=\u001B[39mroot))\n\u001B[1;32m   1151\u001B[0m         )\n\u001B[1;32m   1153\u001B[0m \u001B[38;5;28mself\u001B[39m\u001B[38;5;241m.\u001B[39mbare \u001B[38;5;241m=\u001B[39m bare\n",
      "\u001B[0;31mNotGitRepository\u001B[0m: No git repository was found at r",
      "\nThe above exception was the direct cause of the following exception:\n",
      "\u001B[0;31mCloneError\u001B[0m                                Traceback (most recent call last)",
      "File \u001B[0;32m~/anaconda3/envs/ml_env/lib/python3.10/site-packages/dvc/scm.py:150\u001B[0m, in \u001B[0;36mclone\u001B[0;34m(url, to_path, **kwargs)\u001B[0m\n\u001B[1;32m    149\u001B[0m \u001B[38;5;28;01mtry\u001B[39;00m:\n\u001B[0;32m--> 150\u001B[0m     git \u001B[38;5;241m=\u001B[39m \u001B[43mGit\u001B[49m\u001B[38;5;241;43m.\u001B[39;49m\u001B[43mclone\u001B[49m\u001B[43m(\u001B[49m\u001B[43murl\u001B[49m\u001B[43m,\u001B[49m\u001B[43m \u001B[49m\u001B[43mto_path\u001B[49m\u001B[43m,\u001B[49m\u001B[43m \u001B[49m\u001B[43mprogress\u001B[49m\u001B[38;5;241;43m=\u001B[39;49m\u001B[43mpbar\u001B[49m\u001B[38;5;241;43m.\u001B[39;49m\u001B[43mupdate_git\u001B[49m\u001B[43m,\u001B[49m\u001B[43m \u001B[49m\u001B[38;5;241;43m*\u001B[39;49m\u001B[38;5;241;43m*\u001B[39;49m\u001B[43mkwargs\u001B[49m\u001B[43m)\u001B[49m\n\u001B[1;32m    151\u001B[0m     \u001B[38;5;28;01mif\u001B[39;00m \u001B[38;5;124m\"\u001B[39m\u001B[38;5;124mshallow_branch\u001B[39m\u001B[38;5;124m\"\u001B[39m \u001B[38;5;129;01mnot\u001B[39;00m \u001B[38;5;129;01min\u001B[39;00m kwargs:\n",
      "File \u001B[0;32m~/anaconda3/envs/ml_env/lib/python3.10/site-packages/scmrepo/git/__init__.py:154\u001B[0m, in \u001B[0;36mGit.clone\u001B[0;34m(cls, url, to_path, rev, bare, mirror, **kwargs)\u001B[0m\n\u001B[1;32m    153\u001B[0m \u001B[38;5;28;01mtry\u001B[39;00m:\n\u001B[0;32m--> 154\u001B[0m     \u001B[43mbackend\u001B[49m\u001B[38;5;241;43m.\u001B[39;49m\u001B[43mclone\u001B[49m\u001B[43m(\u001B[49m\u001B[43murl\u001B[49m\u001B[43m,\u001B[49m\u001B[43m \u001B[49m\u001B[43mto_path\u001B[49m\u001B[43m,\u001B[49m\u001B[43m \u001B[49m\u001B[43mbare\u001B[49m\u001B[38;5;241;43m=\u001B[39;49m\u001B[43mbare\u001B[49m\u001B[43m,\u001B[49m\u001B[43m \u001B[49m\u001B[43mmirror\u001B[49m\u001B[38;5;241;43m=\u001B[39;49m\u001B[43mmirror\u001B[49m\u001B[43m,\u001B[49m\u001B[43m \u001B[49m\u001B[38;5;241;43m*\u001B[39;49m\u001B[38;5;241;43m*\u001B[39;49m\u001B[43mkwargs\u001B[49m\u001B[43m)\u001B[49m\n\u001B[1;32m    155\u001B[0m     repo \u001B[38;5;241m=\u001B[39m \u001B[38;5;28mcls\u001B[39m(to_path)\n",
      "File \u001B[0;32m~/anaconda3/envs/ml_env/lib/python3.10/site-packages/scmrepo/git/backend/dulwich/__init__.py:269\u001B[0m, in \u001B[0;36mDulwichBackend.clone\u001B[0;34m(cls, url, to_path, shallow_branch, progress, bare, mirror)\u001B[0m\n\u001B[1;32m    268\u001B[0m \u001B[38;5;28;01mexcept\u001B[39;00m \u001B[38;5;167;01mException\u001B[39;00m \u001B[38;5;28;01mas\u001B[39;00m exc:\n\u001B[0;32m--> 269\u001B[0m     \u001B[38;5;28;01mraise\u001B[39;00m CloneError(url, os\u001B[38;5;241m.\u001B[39mfsdecode(to_path)) \u001B[38;5;28;01mfrom\u001B[39;00m\u001B[38;5;250m \u001B[39m\u001B[38;5;21;01mexc\u001B[39;00m\n",
      "\u001B[0;31mCloneError\u001B[0m: Failed to clone repo 'r' to '/var/folders/fd/yv8733dd2vxf92m9dlz89q900000gn/T/tmp2qju36kddvc-clone'",
      "\nThe above exception was the direct cause of the following exception:\n",
      "\u001B[0;31mCloneError\u001B[0m                                Traceback (most recent call last)",
      "Cell \u001B[0;32mIn[39], line 10\u001B[0m\n\u001B[1;32m      7\u001B[0m     \u001B[38;5;28;01mraise\u001B[39;00m \u001B[38;5;167;01mFileNotFoundError\u001B[39;00m(\u001B[38;5;124m\"\u001B[39m\u001B[38;5;124mLes fichiers train.csv ou test.csv sont introuvables. Assurez-vous qu\u001B[39m\u001B[38;5;124m'\u001B[39m\u001B[38;5;124mils sont gérés par DVC et récupérés avec \u001B[39m\u001B[38;5;124m'\u001B[39m\u001B[38;5;124mdvc pull\u001B[39m\u001B[38;5;124m'\u001B[39m\u001B[38;5;124m.\u001B[39m\u001B[38;5;124m\"\u001B[39m)\n\u001B[1;32m      9\u001B[0m \u001B[38;5;66;03m# Charger les données avec DVC\u001B[39;00m\n\u001B[0;32m---> 10\u001B[0m \u001B[38;5;28;01mwith\u001B[39;00m dvc_open(train_path, \u001B[38;5;124m\"\u001B[39m\u001B[38;5;124mr\u001B[39m\u001B[38;5;124m\"\u001B[39m) \u001B[38;5;28;01mas\u001B[39;00m f:\n\u001B[1;32m     11\u001B[0m     train_data \u001B[38;5;241m=\u001B[39m pd\u001B[38;5;241m.\u001B[39mread_csv(f)\n\u001B[1;32m     13\u001B[0m \u001B[38;5;28;01mwith\u001B[39;00m dvc_open(test_path, \u001B[38;5;124m\"\u001B[39m\u001B[38;5;124mr\u001B[39m\u001B[38;5;124m\"\u001B[39m) \u001B[38;5;28;01mas\u001B[39;00m f:\n",
      "File \u001B[0;32m~/anaconda3/envs/ml_env/lib/python3.10/contextlib.py:135\u001B[0m, in \u001B[0;36m_GeneratorContextManager.__enter__\u001B[0;34m(self)\u001B[0m\n\u001B[1;32m    133\u001B[0m \u001B[38;5;28;01mdel\u001B[39;00m \u001B[38;5;28mself\u001B[39m\u001B[38;5;241m.\u001B[39margs, \u001B[38;5;28mself\u001B[39m\u001B[38;5;241m.\u001B[39mkwds, \u001B[38;5;28mself\u001B[39m\u001B[38;5;241m.\u001B[39mfunc\n\u001B[1;32m    134\u001B[0m \u001B[38;5;28;01mtry\u001B[39;00m:\n\u001B[0;32m--> 135\u001B[0m     \u001B[38;5;28;01mreturn\u001B[39;00m \u001B[38;5;28;43mnext\u001B[39;49m\u001B[43m(\u001B[49m\u001B[38;5;28;43mself\u001B[39;49m\u001B[38;5;241;43m.\u001B[39;49m\u001B[43mgen\u001B[49m\u001B[43m)\u001B[49m\n\u001B[1;32m    136\u001B[0m \u001B[38;5;28;01mexcept\u001B[39;00m \u001B[38;5;167;01mStopIteration\u001B[39;00m:\n\u001B[1;32m    137\u001B[0m     \u001B[38;5;28;01mraise\u001B[39;00m \u001B[38;5;167;01mRuntimeError\u001B[39;00m(\u001B[38;5;124m\"\u001B[39m\u001B[38;5;124mgenerator didn\u001B[39m\u001B[38;5;124m'\u001B[39m\u001B[38;5;124mt yield\u001B[39m\u001B[38;5;124m\"\u001B[39m) \u001B[38;5;28;01mfrom\u001B[39;00m\u001B[38;5;250m \u001B[39m\u001B[38;5;28;01mNone\u001B[39;00m\n",
      "File \u001B[0;32m~/anaconda3/envs/ml_env/lib/python3.10/site-packages/dvc/api/data.py:276\u001B[0m, in \u001B[0;36m_open\u001B[0;34m(path, repo, rev, remote, mode, encoding, config, remote_config)\u001B[0m\n\u001B[1;32m    258\u001B[0m \u001B[38;5;28;01mdef\u001B[39;00m\u001B[38;5;250m \u001B[39m\u001B[38;5;21m_open\u001B[39m(\n\u001B[1;32m    259\u001B[0m     path,\n\u001B[1;32m    260\u001B[0m     repo\u001B[38;5;241m=\u001B[39m\u001B[38;5;28;01mNone\u001B[39;00m,\n\u001B[0;32m   (...)\u001B[0m\n\u001B[1;32m    266\u001B[0m     remote_config\u001B[38;5;241m=\u001B[39m\u001B[38;5;28;01mNone\u001B[39;00m,\n\u001B[1;32m    267\u001B[0m ):\n\u001B[1;32m    268\u001B[0m     repo_kwargs: \u001B[38;5;28mdict\u001B[39m[\u001B[38;5;28mstr\u001B[39m, Any] \u001B[38;5;241m=\u001B[39m {\n\u001B[1;32m    269\u001B[0m         \u001B[38;5;124m\"\u001B[39m\u001B[38;5;124msubrepos\u001B[39m\u001B[38;5;124m\"\u001B[39m: \u001B[38;5;28;01mTrue\u001B[39;00m,\n\u001B[1;32m    270\u001B[0m         \u001B[38;5;124m\"\u001B[39m\u001B[38;5;124muninitialized\u001B[39m\u001B[38;5;124m\"\u001B[39m: \u001B[38;5;28;01mTrue\u001B[39;00m,\n\u001B[0;32m   (...)\u001B[0m\n\u001B[1;32m    273\u001B[0m         \u001B[38;5;124m\"\u001B[39m\u001B[38;5;124mremote_config\u001B[39m\u001B[38;5;124m\"\u001B[39m: remote_config,\n\u001B[1;32m    274\u001B[0m     }\n\u001B[0;32m--> 276\u001B[0m     \u001B[38;5;28;01mwith\u001B[39;00m \u001B[43mRepo\u001B[49m\u001B[38;5;241;43m.\u001B[39;49m\u001B[43mopen\u001B[49m\u001B[43m(\u001B[49m\u001B[43mrepo\u001B[49m\u001B[43m,\u001B[49m\u001B[43m \u001B[49m\u001B[43mrev\u001B[49m\u001B[38;5;241;43m=\u001B[39;49m\u001B[43mrev\u001B[49m\u001B[43m,\u001B[49m\u001B[43m \u001B[49m\u001B[38;5;241;43m*\u001B[39;49m\u001B[38;5;241;43m*\u001B[39;49m\u001B[43mrepo_kwargs\u001B[49m\u001B[43m)\u001B[49m \u001B[38;5;28;01mas\u001B[39;00m _repo:\n\u001B[1;32m    277\u001B[0m         \u001B[38;5;28;01mwith\u001B[39;00m _wrap_exceptions(_repo, path):\n\u001B[1;32m    278\u001B[0m             \u001B[38;5;28;01mimport\u001B[39;00m\u001B[38;5;250m \u001B[39m\u001B[38;5;21;01mos\u001B[39;00m\n",
      "File \u001B[0;32m~/anaconda3/envs/ml_env/lib/python3.10/site-packages/dvc/repo/__init__.py:302\u001B[0m, in \u001B[0;36mRepo.open\u001B[0;34m(url, *args, **kwargs)\u001B[0m\n\u001B[1;32m    298\u001B[0m \u001B[38;5;129m@staticmethod\u001B[39m\n\u001B[1;32m    299\u001B[0m \u001B[38;5;28;01mdef\u001B[39;00m\u001B[38;5;250m \u001B[39m\u001B[38;5;21mopen\u001B[39m(url: Optional[\u001B[38;5;28mstr\u001B[39m], \u001B[38;5;241m*\u001B[39margs, \u001B[38;5;241m*\u001B[39m\u001B[38;5;241m*\u001B[39mkwargs) \u001B[38;5;241m-\u001B[39m\u001B[38;5;241m>\u001B[39m \u001B[38;5;124m\"\u001B[39m\u001B[38;5;124mRepo\u001B[39m\u001B[38;5;124m\"\u001B[39m:\n\u001B[1;32m    300\u001B[0m     \u001B[38;5;28;01mfrom\u001B[39;00m\u001B[38;5;250m \u001B[39m\u001B[38;5;21;01m.\u001B[39;00m\u001B[38;5;21;01mopen_repo\u001B[39;00m\u001B[38;5;250m \u001B[39m\u001B[38;5;28;01mimport\u001B[39;00m open_repo\n\u001B[0;32m--> 302\u001B[0m     \u001B[38;5;28;01mreturn\u001B[39;00m \u001B[43mopen_repo\u001B[49m\u001B[43m(\u001B[49m\u001B[43murl\u001B[49m\u001B[43m,\u001B[49m\u001B[43m \u001B[49m\u001B[38;5;241;43m*\u001B[39;49m\u001B[43margs\u001B[49m\u001B[43m,\u001B[49m\u001B[43m \u001B[49m\u001B[38;5;241;43m*\u001B[39;49m\u001B[38;5;241;43m*\u001B[39;49m\u001B[43mkwargs\u001B[49m\u001B[43m)\u001B[49m\n",
      "File \u001B[0;32m~/anaconda3/envs/ml_env/lib/python3.10/site-packages/dvc/repo/open_repo.py:60\u001B[0m, in \u001B[0;36mopen_repo\u001B[0;34m(url, *args, **kwargs)\u001B[0m\n\u001B[1;32m     57\u001B[0m     \u001B[38;5;28;01mexcept\u001B[39;00m NotDvcRepoError:\n\u001B[1;32m     58\u001B[0m         \u001B[38;5;28;01mpass\u001B[39;00m  \u001B[38;5;66;03m# fallthrough to _external_repo\u001B[39;00m\n\u001B[0;32m---> 60\u001B[0m \u001B[38;5;28;01mreturn\u001B[39;00m \u001B[43m_external_repo\u001B[49m\u001B[43m(\u001B[49m\u001B[43murl\u001B[49m\u001B[43m,\u001B[49m\u001B[43m \u001B[49m\u001B[38;5;241;43m*\u001B[39;49m\u001B[43margs\u001B[49m\u001B[43m,\u001B[49m\u001B[43m \u001B[49m\u001B[38;5;241;43m*\u001B[39;49m\u001B[38;5;241;43m*\u001B[39;49m\u001B[43mkwargs\u001B[49m\u001B[43m)\u001B[49m\n",
      "File \u001B[0;32m~/anaconda3/envs/ml_env/lib/python3.10/contextlib.py:79\u001B[0m, in \u001B[0;36mContextDecorator.__call__.<locals>.inner\u001B[0;34m(*args, **kwds)\u001B[0m\n\u001B[1;32m     76\u001B[0m \u001B[38;5;129m@wraps\u001B[39m(func)\n\u001B[1;32m     77\u001B[0m \u001B[38;5;28;01mdef\u001B[39;00m\u001B[38;5;250m \u001B[39m\u001B[38;5;21minner\u001B[39m(\u001B[38;5;241m*\u001B[39margs, \u001B[38;5;241m*\u001B[39m\u001B[38;5;241m*\u001B[39mkwds):\n\u001B[1;32m     78\u001B[0m     \u001B[38;5;28;01mwith\u001B[39;00m \u001B[38;5;28mself\u001B[39m\u001B[38;5;241m.\u001B[39m_recreate_cm():\n\u001B[0;32m---> 79\u001B[0m         \u001B[38;5;28;01mreturn\u001B[39;00m \u001B[43mfunc\u001B[49m\u001B[43m(\u001B[49m\u001B[38;5;241;43m*\u001B[39;49m\u001B[43margs\u001B[49m\u001B[43m,\u001B[49m\u001B[43m \u001B[49m\u001B[38;5;241;43m*\u001B[39;49m\u001B[38;5;241;43m*\u001B[39;49m\u001B[43mkwds\u001B[49m\u001B[43m)\u001B[49m\n",
      "File \u001B[0;32m~/anaconda3/envs/ml_env/lib/python3.10/site-packages/dvc/repo/open_repo.py:23\u001B[0m, in \u001B[0;36m_external_repo\u001B[0;34m(url, rev, **kwargs)\u001B[0m\n\u001B[1;32m     20\u001B[0m \u001B[38;5;129m@map_scm_exception\u001B[39m()\n\u001B[1;32m     21\u001B[0m \u001B[38;5;28;01mdef\u001B[39;00m\u001B[38;5;250m \u001B[39m\u001B[38;5;21m_external_repo\u001B[39m(url, rev: Optional[\u001B[38;5;28mstr\u001B[39m] \u001B[38;5;241m=\u001B[39m \u001B[38;5;28;01mNone\u001B[39;00m, \u001B[38;5;241m*\u001B[39m\u001B[38;5;241m*\u001B[39mkwargs) \u001B[38;5;241m-\u001B[39m\u001B[38;5;241m>\u001B[39m \u001B[38;5;124m\"\u001B[39m\u001B[38;5;124mRepo\u001B[39m\u001B[38;5;124m\"\u001B[39m:\n\u001B[1;32m     22\u001B[0m     logger\u001B[38;5;241m.\u001B[39mdebug(\u001B[38;5;124m\"\u001B[39m\u001B[38;5;124mCreating external repo \u001B[39m\u001B[38;5;132;01m%s\u001B[39;00m\u001B[38;5;124m@\u001B[39m\u001B[38;5;132;01m%s\u001B[39;00m\u001B[38;5;124m\"\u001B[39m, url, rev)\n\u001B[0;32m---> 23\u001B[0m     path \u001B[38;5;241m=\u001B[39m \u001B[43m_cached_clone\u001B[49m\u001B[43m(\u001B[49m\u001B[43murl\u001B[49m\u001B[43m,\u001B[49m\u001B[43m \u001B[49m\u001B[43mrev\u001B[49m\u001B[43m)\u001B[49m\n\u001B[1;32m     24\u001B[0m     \u001B[38;5;66;03m# Local HEAD points to the tip of whatever branch we first cloned from\u001B[39;00m\n\u001B[1;32m     25\u001B[0m     \u001B[38;5;66;03m# (which may not be the default branch), use origin/HEAD here to get\u001B[39;00m\n\u001B[1;32m     26\u001B[0m     \u001B[38;5;66;03m# the tip of the default branch\u001B[39;00m\n\u001B[1;32m     27\u001B[0m     rev \u001B[38;5;241m=\u001B[39m rev \u001B[38;5;129;01mor\u001B[39;00m \u001B[38;5;124m\"\u001B[39m\u001B[38;5;124mrefs/remotes/origin/HEAD\u001B[39m\u001B[38;5;124m\"\u001B[39m\n",
      "File \u001B[0;32m~/anaconda3/envs/ml_env/lib/python3.10/site-packages/dvc/repo/open_repo.py:134\u001B[0m, in \u001B[0;36m_cached_clone\u001B[0;34m(url, rev)\u001B[0m\n\u001B[1;32m    130\u001B[0m \u001B[38;5;28;01mfrom\u001B[39;00m\u001B[38;5;250m \u001B[39m\u001B[38;5;21;01mshutil\u001B[39;00m\u001B[38;5;250m \u001B[39m\u001B[38;5;28;01mimport\u001B[39;00m copytree\n\u001B[1;32m    132\u001B[0m \u001B[38;5;66;03m# even if we have already cloned this repo, we may need to\u001B[39;00m\n\u001B[1;32m    133\u001B[0m \u001B[38;5;66;03m# fetch/fast-forward to get specified rev\u001B[39;00m\n\u001B[0;32m--> 134\u001B[0m clone_path, shallow \u001B[38;5;241m=\u001B[39m \u001B[43m_clone_default_branch\u001B[49m\u001B[43m(\u001B[49m\u001B[43murl\u001B[49m\u001B[43m,\u001B[49m\u001B[43m \u001B[49m\u001B[43mrev\u001B[49m\u001B[43m)\u001B[49m\n\u001B[1;32m    136\u001B[0m \u001B[38;5;28;01mif\u001B[39;00m url \u001B[38;5;129;01min\u001B[39;00m CLONES:\n\u001B[1;32m    137\u001B[0m     \u001B[38;5;28;01mreturn\u001B[39;00m CLONES[url][\u001B[38;5;241m0\u001B[39m]\n",
      "File \u001B[0;32m~/anaconda3/envs/ml_env/lib/python3.10/site-packages/funcy/decorators.py:47\u001B[0m, in \u001B[0;36mmake_decorator.<locals>._decorator.<locals>.wrapper\u001B[0;34m(*args, **kwargs)\u001B[0m\n\u001B[1;32m     45\u001B[0m \u001B[38;5;28;01mdef\u001B[39;00m\u001B[38;5;250m \u001B[39m\u001B[38;5;21mwrapper\u001B[39m(\u001B[38;5;241m*\u001B[39margs, \u001B[38;5;241m*\u001B[39m\u001B[38;5;241m*\u001B[39mkwargs):\n\u001B[1;32m     46\u001B[0m     call \u001B[38;5;241m=\u001B[39m Call(func, args, kwargs)\n\u001B[0;32m---> 47\u001B[0m     \u001B[38;5;28;01mreturn\u001B[39;00m \u001B[43mdeco\u001B[49m\u001B[43m(\u001B[49m\u001B[43mcall\u001B[49m\u001B[43m,\u001B[49m\u001B[43m \u001B[49m\u001B[38;5;241;43m*\u001B[39;49m\u001B[43mdargs\u001B[49m\u001B[43m,\u001B[49m\u001B[43m \u001B[49m\u001B[38;5;241;43m*\u001B[39;49m\u001B[38;5;241;43m*\u001B[39;49m\u001B[43mdkwargs\u001B[49m\u001B[43m)\u001B[49m\n",
      "File \u001B[0;32m~/anaconda3/envs/ml_env/lib/python3.10/site-packages/funcy/flow.py:246\u001B[0m, in \u001B[0;36mwrap_with\u001B[0;34m(call, ctx)\u001B[0m\n\u001B[1;32m    244\u001B[0m \u001B[38;5;250m\u001B[39m\u001B[38;5;124;03m\"\"\"Turn context manager into a decorator\"\"\"\u001B[39;00m\n\u001B[1;32m    245\u001B[0m \u001B[38;5;28;01mwith\u001B[39;00m ctx:\n\u001B[0;32m--> 246\u001B[0m     \u001B[38;5;28;01mreturn\u001B[39;00m \u001B[43mcall\u001B[49m\u001B[43m(\u001B[49m\u001B[43m)\u001B[49m\n",
      "File \u001B[0;32m~/anaconda3/envs/ml_env/lib/python3.10/site-packages/funcy/decorators.py:68\u001B[0m, in \u001B[0;36mCall.__call__\u001B[0;34m(self, *a, **kw)\u001B[0m\n\u001B[1;32m     66\u001B[0m \u001B[38;5;28;01mdef\u001B[39;00m\u001B[38;5;250m \u001B[39m\u001B[38;5;21m__call__\u001B[39m(\u001B[38;5;28mself\u001B[39m, \u001B[38;5;241m*\u001B[39ma, \u001B[38;5;241m*\u001B[39m\u001B[38;5;241m*\u001B[39mkw):\n\u001B[1;32m     67\u001B[0m     \u001B[38;5;28;01mif\u001B[39;00m \u001B[38;5;129;01mnot\u001B[39;00m a \u001B[38;5;129;01mand\u001B[39;00m \u001B[38;5;129;01mnot\u001B[39;00m kw:\n\u001B[0;32m---> 68\u001B[0m         \u001B[38;5;28;01mreturn\u001B[39;00m \u001B[38;5;28;43mself\u001B[39;49m\u001B[38;5;241;43m.\u001B[39;49m\u001B[43m_func\u001B[49m\u001B[43m(\u001B[49m\u001B[38;5;241;43m*\u001B[39;49m\u001B[38;5;28;43mself\u001B[39;49m\u001B[38;5;241;43m.\u001B[39;49m\u001B[43m_args\u001B[49m\u001B[43m,\u001B[49m\u001B[43m \u001B[49m\u001B[38;5;241;43m*\u001B[39;49m\u001B[38;5;241;43m*\u001B[39;49m\u001B[38;5;28;43mself\u001B[39;49m\u001B[38;5;241;43m.\u001B[39;49m\u001B[43m_kwargs\u001B[49m\u001B[43m)\u001B[49m\n\u001B[1;32m     69\u001B[0m     \u001B[38;5;28;01melse\u001B[39;00m:\n\u001B[1;32m     70\u001B[0m         \u001B[38;5;28;01mreturn\u001B[39;00m \u001B[38;5;28mself\u001B[39m\u001B[38;5;241m.\u001B[39m_func(\u001B[38;5;241m*\u001B[39m(\u001B[38;5;28mself\u001B[39m\u001B[38;5;241m.\u001B[39m_args \u001B[38;5;241m+\u001B[39m a), \u001B[38;5;241m*\u001B[39m\u001B[38;5;241m*\u001B[39m\u001B[38;5;28mdict\u001B[39m(\u001B[38;5;28mself\u001B[39m\u001B[38;5;241m.\u001B[39m_kwargs, \u001B[38;5;241m*\u001B[39m\u001B[38;5;241m*\u001B[39mkw))\n",
      "File \u001B[0;32m~/anaconda3/envs/ml_env/lib/python3.10/site-packages/dvc/repo/open_repo.py:198\u001B[0m, in \u001B[0;36m_clone_default_branch\u001B[0;34m(url, rev)\u001B[0m\n\u001B[1;32m    196\u001B[0m             _remove(git_dir)\n\u001B[1;32m    197\u001B[0m \u001B[38;5;28;01mif\u001B[39;00m \u001B[38;5;129;01mnot\u001B[39;00m git:\n\u001B[0;32m--> 198\u001B[0m     git \u001B[38;5;241m=\u001B[39m \u001B[43mclone\u001B[49m\u001B[43m(\u001B[49m\u001B[43murl\u001B[49m\u001B[43m,\u001B[49m\u001B[43m \u001B[49m\u001B[43mclone_path\u001B[49m\u001B[43m)\u001B[49m\n\u001B[1;32m    199\u001B[0m     shallow \u001B[38;5;241m=\u001B[39m \u001B[38;5;28;01mFalse\u001B[39;00m\n\u001B[1;32m    200\u001B[0m CLONES[url] \u001B[38;5;241m=\u001B[39m (clone_path, shallow)\n",
      "File \u001B[0;32m~/anaconda3/envs/ml_env/lib/python3.10/site-packages/dvc/scm.py:155\u001B[0m, in \u001B[0;36mclone\u001B[0;34m(url, to_path, **kwargs)\u001B[0m\n\u001B[1;32m    153\u001B[0m     \u001B[38;5;28;01mreturn\u001B[39;00m git\n\u001B[1;32m    154\u001B[0m \u001B[38;5;28;01mexcept\u001B[39;00m InternalCloneError \u001B[38;5;28;01mas\u001B[39;00m exc:\n\u001B[0;32m--> 155\u001B[0m     \u001B[38;5;28;01mraise\u001B[39;00m CloneError(\u001B[38;5;124m\"\u001B[39m\u001B[38;5;124mSCM error\u001B[39m\u001B[38;5;124m\"\u001B[39m) \u001B[38;5;28;01mfrom\u001B[39;00m\u001B[38;5;250m \u001B[39m\u001B[38;5;21;01mexc\u001B[39;00m\n",
      "\u001B[0;31mCloneError\u001B[0m: SCM error"
     ]
    }
   ],
   "execution_count": 39
  },
  {
   "metadata": {
    "ExecuteTime": {
     "end_time": "2025-01-25T17:41:05.146458Z",
     "start_time": "2025-01-25T17:41:01.742346Z"
    }
   },
   "cell_type": "code",
   "source": [
    "\n",
    "# Prétraitement des données\n",
    "train_data.fillna(train_data.median(), inplace=True)\n",
    "test_data.fillna(test_data.median(), inplace=True)\n",
    "\n",
    "# Définir les features et la cible\n",
    "features = [\n",
    "    \"MSSubClass\", \"LotFrontage\", \"LotArea\", \"OverallQual\", \"OverallCond\",\n",
    "    \"YearBuilt\", \"YearRemodAdd\", \"GrLivArea\", \"FullBath\", \"HalfBath\", \"BedroomAbvGr\"\n",
    "]\n",
    "target = \"SalePrice\"\n",
    "\n",
    "X = train_data[features]\n",
    "y = train_data[target]\n",
    "\n",
    "# Diviser les données en ensembles d'entraînement et de validation\n",
    "X_train, X_val, y_train, y_val = train_test_split(X, y, test_size=0.2, random_state=42)\n",
    "\n",
    "# Démarrer une expérience MLflow\n",
    "with mlflow.start_run():\n",
    "    # Entraîner un modèle RandomForest pour la régression\n",
    "    model = RandomForestRegressor(n_estimators=100, random_state=42)\n",
    "    model.fit(X_train, y_train)\n",
    "\n",
    "    # Faire des prédictions sur l'ensemble de validation\n",
    "    y_pred = model.predict(X_val)\n",
    "\n",
    "    # Calculer la métrique d'erreur (RMSE)\n",
    "    rmse = mean_squared_error(y_val, y_pred, squared=False)\n",
    "    print(f\"RMSE sur l'ensemble de validation : {rmse}\")\n",
    "\n",
    "    # Enregistrer les métriques et le modèle dans MLflow\n",
    "    mlflow.log_param(\"model_type\", \"RandomForestRegressor\")\n",
    "    mlflow.log_metric(\"rmse\", rmse)\n",
    "\n",
    "    # Sauvegarder le modèle dans un fichier pickle\n",
    "    model_filename = \"random_forest_model.pkl\"\n",
    "    with open(model_filename, \"wb\") as f:\n",
    "        pickle.dump(model, f)\n",
    "    print(f\"Modèle sauvegardé dans le fichier : {model_filename}\")\n",
    "\n",
    "# Utilisation du modèle pour des prédictions sur le test dataset\n",
    "test_features = test_data[features]\n",
    "test_predictions = model.predict(test_features)\n",
    "\n",
    "# Préparer un fichier de soumission\n",
    "submission = pd.DataFrame({\n",
    "    \"Id\": test_data[\"Id\"],\n",
    "    \"SalePrice\": test_predictions\n",
    "})\n",
    "submission_path = \"sample_submission.csv\"\n",
    "submission.to_csv(submission_path, index=False)\n",
    "print(f\"Fichier de soumission sauvegardé : {submission_path}\")\n",
    "\n"
   ],
   "id": "initial_id",
   "outputs": [],
   "execution_count": 9
  },
  {
   "metadata": {
    "ExecuteTime": {
     "end_time": "2025-01-25T17:41:15.600550Z",
     "start_time": "2025-01-25T17:41:15.589958Z"
    }
   },
   "cell_type": "code",
   "source": "\n",
   "id": "9575e4517a4a6fcf",
   "outputs": [
    {
     "name": "stdout",
     "output_type": "stream",
     "text": [
      "/Users/gabrielmarec/anaconda3/envs/ml_env/bin/python\n"
     ]
    }
   ],
   "execution_count": 10
  },
  {
   "cell_type": "code",
   "id": "56ea987fccfab646",
   "metadata": {
    "ExecuteTime": {
     "end_time": "2025-01-25T17:41:18.783132Z",
     "start_time": "2025-01-25T17:41:18.500257Z"
    }
   },
   "source": "",
   "outputs": [
    {
     "data": {
      "text/plain": [
       "Initialized MLflow to track repo \u001B[32m\"Nagisa/ml_ops_project\"\u001B[0m\n"
      ],
      "text/html": [
       "<pre style=\"white-space:pre;overflow-x:auto;line-height:normal;font-family:Menlo,'DejaVu Sans Mono',consolas,'Courier New',monospace\">Initialized MLflow to track repo <span style=\"color: #008000; text-decoration-color: #008000\">\"Nagisa/ml_ops_project\"</span>\n",
       "</pre>\n"
      ]
     },
     "metadata": {},
     "output_type": "display_data"
    },
    {
     "data": {
      "text/plain": [
       "Repository Nagisa/ml_ops_project initialized!\n"
      ],
      "text/html": [
       "<pre style=\"white-space:pre;overflow-x:auto;line-height:normal;font-family:Menlo,'DejaVu Sans Mono',consolas,'Courier New',monospace\">Repository Nagisa/ml_ops_project initialized!\n",
       "</pre>\n"
      ]
     },
     "metadata": {},
     "output_type": "display_data"
    }
   ],
   "execution_count": 11
  },
  {
   "metadata": {},
   "cell_type": "code",
   "outputs": [],
   "execution_count": null,
   "source": "",
   "id": "2ba3b54fe7af4446"
  },
  {
   "cell_type": "code",
   "execution_count": null,
   "id": "8e664919e8767f04",
   "metadata": {
    "jupyter": {
     "is_executing": true
    }
   },
   "outputs": [],
   "source": ""
  },
  {
   "metadata": {},
   "cell_type": "code",
   "outputs": [],
   "execution_count": null,
   "source": "",
   "id": "7af2e12deeeef2a"
  }
 ],
 "metadata": {
  "kernelspec": {
   "display_name": "Python (ml_env)",
   "language": "python",
   "name": "ml_env"
  },
  "language_info": {
   "codemirror_mode": {
    "name": "ipython",
    "version": 3
   },
   "file_extension": ".py",
   "mimetype": "text/x-python",
   "name": "python",
   "nbconvert_exporter": "python",
   "pygments_lexer": "ipython3",
   "version": "3.10.16"
  }
 },
 "nbformat": 4,
 "nbformat_minor": 5
}
